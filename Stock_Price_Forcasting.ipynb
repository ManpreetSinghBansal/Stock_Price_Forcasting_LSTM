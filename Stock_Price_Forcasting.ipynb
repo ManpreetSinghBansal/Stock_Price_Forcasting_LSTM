{
 "cells": [
  {
   "cell_type": "code",
   "execution_count": 1,
   "id": "9e03d8a1-f72d-45d1-b0ed-5b007d0913ce",
   "metadata": {
    "scrolled": true
   },
   "outputs": [
    {
     "name": "stdout",
     "output_type": "stream",
     "text": [
      "[[[0.08581368]\n",
      "  [0.09701243]\n",
      "  [0.09433366]\n",
      "  ...\n",
      "  [0.0440695 ]\n",
      "  [0.04648783]\n",
      "  [0.04745517]]\n",
      "\n",
      " [[0.09701243]\n",
      "  [0.09433366]\n",
      "  [0.09156187]\n",
      "  ...\n",
      "  [0.04648783]\n",
      "  [0.04745517]\n",
      "  [0.04873875]]\n",
      "\n",
      " [[0.09433366]\n",
      "  [0.09156187]\n",
      "  [0.07984225]\n",
      "  ...\n",
      "  [0.04745517]\n",
      "  [0.04873875]\n",
      "  [0.03936305]]\n",
      "\n",
      " ...\n",
      "\n",
      " [[0.88637547]\n",
      "  [0.87032145]\n",
      "  [0.88563137]\n",
      "  ...\n",
      "  [0.95475854]\n",
      "  [0.95204256]\n",
      "  [0.95163331]]\n",
      "\n",
      " [[0.87032145]\n",
      "  [0.88563137]\n",
      "  [0.90743359]\n",
      "  ...\n",
      "  [0.95204256]\n",
      "  [0.95163331]\n",
      "  [0.95725128]]\n",
      "\n",
      " [[0.88563137]\n",
      "  [0.90743359]\n",
      "  [0.91571173]\n",
      "  ...\n",
      "  [0.95163331]\n",
      "  [0.95725128]\n",
      "  [0.93796041]]]\n",
      "[[[0.04873875]]\n",
      "\n",
      " [[0.03936305]]\n",
      "\n",
      " [[0.04137213]]\n",
      "\n",
      " ...\n",
      "\n",
      " [[0.95725128]]\n",
      "\n",
      " [[0.93796041]]\n",
      "\n",
      " [[0.93688146]]]\n"
     ]
    }
   ],
   "source": [
    "# Stock Price Forcasting System\n",
    "import pandas as pd\n",
    "import numpy as np\n",
    "from matplotlib import pyplot as plt\n",
    "df = pd.read_csv(r\"C:\\Users\\DELL\\Downloads\\Google_Stock_Price_Train.csv\")\n",
    "\n",
    "# More the time stamp, more will be the accuracy but the speed will me slow\n",
    "x = df['Open']\n",
    "x = np.array(x).reshape((len(x),1)) # Reshape because can't apply scaling on 1d array\n",
    "\n",
    "from sklearn.preprocessing import MinMaxScaler\n",
    "scaler = MinMaxScaler()\n",
    "x = scaler.fit_transform(x) # Error because data is in 1d form\n",
    "# X is in 2d form\n",
    "\n",
    "x_stock = []\n",
    "y_stock = []\n",
    "# Converting our open price column into specified format before training\n",
    "\n",
    "for i in range(30,len(x)):\n",
    "    x_stock.append(x[i-30:i])\n",
    "    # x_stock is appended with 2d array\n",
    "    y_stock.append([x[i]])\n",
    "\n",
    "x_stock=np.array(x_stock)\n",
    "# x_stock is 3d array\n",
    "y_stock=np.array(y_stock)\n",
    "# y_stock is 3d array\n",
    "\n",
    "print(x_stock)\n",
    "print(y_stock)\n",
    "\n",
    "# When we are working on stock price prediction make data scaled \n"
   ]
  },
  {
   "cell_type": "code",
   "execution_count": 2,
   "id": "97f01adb-1878-4dbe-a4b4-b74029d9018d",
   "metadata": {
    "scrolled": true
   },
   "outputs": [
    {
     "name": "stderr",
     "output_type": "stream",
     "text": [
      "C:\\Users\\DELL\\AppData\\Roaming\\Python\\Python311\\site-packages\\keras\\src\\layers\\rnn\\rnn.py:204: UserWarning: Do not pass an `input_shape`/`input_dim` argument to a layer. When using Sequential models, prefer using an `Input(shape)` object as the first layer in the model instead.\n",
      "  super().__init__(**kwargs)\n"
     ]
    },
    {
     "name": "stdout",
     "output_type": "stream",
     "text": [
      "Epoch 1/50\n",
      "\u001b[1m123/123\u001b[0m \u001b[32m━━━━━━━━━━━━━━━━━━━━\u001b[0m\u001b[37m\u001b[0m \u001b[1m8s\u001b[0m 27ms/step - loss: 0.0423\n",
      "Epoch 2/50\n",
      "\u001b[1m123/123\u001b[0m \u001b[32m━━━━━━━━━━━━━━━━━━━━\u001b[0m\u001b[37m\u001b[0m \u001b[1m4s\u001b[0m 28ms/step - loss: 0.0015\n",
      "Epoch 3/50\n",
      "\u001b[1m123/123\u001b[0m \u001b[32m━━━━━━━━━━━━━━━━━━━━\u001b[0m\u001b[37m\u001b[0m \u001b[1m4s\u001b[0m 28ms/step - loss: 0.0012\n",
      "Epoch 4/50\n",
      "\u001b[1m123/123\u001b[0m \u001b[32m━━━━━━━━━━━━━━━━━━━━\u001b[0m\u001b[37m\u001b[0m \u001b[1m4s\u001b[0m 30ms/step - loss: 0.0012\n",
      "Epoch 5/50\n",
      "\u001b[1m123/123\u001b[0m \u001b[32m━━━━━━━━━━━━━━━━━━━━\u001b[0m\u001b[37m\u001b[0m \u001b[1m3s\u001b[0m 28ms/step - loss: 0.0013\n",
      "Epoch 6/50\n",
      "\u001b[1m123/123\u001b[0m \u001b[32m━━━━━━━━━━━━━━━━━━━━\u001b[0m\u001b[37m\u001b[0m \u001b[1m3s\u001b[0m 27ms/step - loss: 0.0014\n",
      "Epoch 7/50\n",
      "\u001b[1m123/123\u001b[0m \u001b[32m━━━━━━━━━━━━━━━━━━━━\u001b[0m\u001b[37m\u001b[0m \u001b[1m3s\u001b[0m 27ms/step - loss: 0.0011\n",
      "Epoch 8/50\n",
      "\u001b[1m123/123\u001b[0m \u001b[32m━━━━━━━━━━━━━━━━━━━━\u001b[0m\u001b[37m\u001b[0m \u001b[1m4s\u001b[0m 28ms/step - loss: 0.0012\n",
      "Epoch 9/50\n",
      "\u001b[1m123/123\u001b[0m \u001b[32m━━━━━━━━━━━━━━━━━━━━\u001b[0m\u001b[37m\u001b[0m \u001b[1m4s\u001b[0m 28ms/step - loss: 9.1445e-04\n",
      "Epoch 10/50\n",
      "\u001b[1m123/123\u001b[0m \u001b[32m━━━━━━━━━━━━━━━━━━━━\u001b[0m\u001b[37m\u001b[0m \u001b[1m3s\u001b[0m 25ms/step - loss: 8.6609e-04\n",
      "Epoch 11/50\n",
      "\u001b[1m123/123\u001b[0m \u001b[32m━━━━━━━━━━━━━━━━━━━━\u001b[0m\u001b[37m\u001b[0m \u001b[1m3s\u001b[0m 27ms/step - loss: 9.0879e-04\n",
      "Epoch 12/50\n",
      "\u001b[1m123/123\u001b[0m \u001b[32m━━━━━━━━━━━━━━━━━━━━\u001b[0m\u001b[37m\u001b[0m \u001b[1m3s\u001b[0m 28ms/step - loss: 7.0280e-04\n",
      "Epoch 13/50\n",
      "\u001b[1m123/123\u001b[0m \u001b[32m━━━━━━━━━━━━━━━━━━━━\u001b[0m\u001b[37m\u001b[0m \u001b[1m4s\u001b[0m 28ms/step - loss: 8.9569e-04\n",
      "Epoch 14/50\n",
      "\u001b[1m123/123\u001b[0m \u001b[32m━━━━━━━━━━━━━━━━━━━━\u001b[0m\u001b[37m\u001b[0m \u001b[1m3s\u001b[0m 26ms/step - loss: 7.7097e-04\n",
      "Epoch 15/50\n",
      "\u001b[1m123/123\u001b[0m \u001b[32m━━━━━━━━━━━━━━━━━━━━\u001b[0m\u001b[37m\u001b[0m \u001b[1m3s\u001b[0m 28ms/step - loss: 7.6785e-04\n",
      "Epoch 16/50\n",
      "\u001b[1m123/123\u001b[0m \u001b[32m━━━━━━━━━━━━━━━━━━━━\u001b[0m\u001b[37m\u001b[0m \u001b[1m3s\u001b[0m 27ms/step - loss: 9.6376e-04\n",
      "Epoch 17/50\n",
      "\u001b[1m123/123\u001b[0m \u001b[32m━━━━━━━━━━━━━━━━━━━━\u001b[0m\u001b[37m\u001b[0m \u001b[1m3s\u001b[0m 25ms/step - loss: 7.2991e-04\n",
      "Epoch 18/50\n",
      "\u001b[1m123/123\u001b[0m \u001b[32m━━━━━━━━━━━━━━━━━━━━\u001b[0m\u001b[37m\u001b[0m \u001b[1m3s\u001b[0m 28ms/step - loss: 6.5579e-04\n",
      "Epoch 19/50\n",
      "\u001b[1m123/123\u001b[0m \u001b[32m━━━━━━━━━━━━━━━━━━━━\u001b[0m\u001b[37m\u001b[0m \u001b[1m3s\u001b[0m 27ms/step - loss: 8.2762e-04\n",
      "Epoch 20/50\n",
      "\u001b[1m123/123\u001b[0m \u001b[32m━━━━━━━━━━━━━━━━━━━━\u001b[0m\u001b[37m\u001b[0m \u001b[1m3s\u001b[0m 26ms/step - loss: 9.3055e-04\n",
      "Epoch 21/50\n",
      "\u001b[1m123/123\u001b[0m \u001b[32m━━━━━━━━━━━━━━━━━━━━\u001b[0m\u001b[37m\u001b[0m \u001b[1m3s\u001b[0m 27ms/step - loss: 6.7698e-04\n",
      "Epoch 22/50\n",
      "\u001b[1m123/123\u001b[0m \u001b[32m━━━━━━━━━━━━━━━━━━━━\u001b[0m\u001b[37m\u001b[0m \u001b[1m4s\u001b[0m 28ms/step - loss: 6.0189e-04\n",
      "Epoch 23/50\n",
      "\u001b[1m123/123\u001b[0m \u001b[32m━━━━━━━━━━━━━━━━━━━━\u001b[0m\u001b[37m\u001b[0m \u001b[1m3s\u001b[0m 28ms/step - loss: 5.6516e-04\n",
      "Epoch 24/50\n",
      "\u001b[1m123/123\u001b[0m \u001b[32m━━━━━━━━━━━━━━━━━━━━\u001b[0m\u001b[37m\u001b[0m \u001b[1m3s\u001b[0m 28ms/step - loss: 5.9907e-04\n",
      "Epoch 25/50\n",
      "\u001b[1m123/123\u001b[0m \u001b[32m━━━━━━━━━━━━━━━━━━━━\u001b[0m\u001b[37m\u001b[0m \u001b[1m3s\u001b[0m 27ms/step - loss: 5.2303e-04\n",
      "Epoch 26/50\n",
      "\u001b[1m123/123\u001b[0m \u001b[32m━━━━━━━━━━━━━━━━━━━━\u001b[0m\u001b[37m\u001b[0m \u001b[1m3s\u001b[0m 27ms/step - loss: 5.0385e-04\n",
      "Epoch 27/50\n",
      "\u001b[1m123/123\u001b[0m \u001b[32m━━━━━━━━━━━━━━━━━━━━\u001b[0m\u001b[37m\u001b[0m \u001b[1m3s\u001b[0m 27ms/step - loss: 4.7552e-04\n",
      "Epoch 28/50\n",
      "\u001b[1m123/123\u001b[0m \u001b[32m━━━━━━━━━━━━━━━━━━━━\u001b[0m\u001b[37m\u001b[0m \u001b[1m3s\u001b[0m 25ms/step - loss: 4.7355e-04\n",
      "Epoch 29/50\n",
      "\u001b[1m123/123\u001b[0m \u001b[32m━━━━━━━━━━━━━━━━━━━━\u001b[0m\u001b[37m\u001b[0m \u001b[1m3s\u001b[0m 26ms/step - loss: 4.9749e-04\n",
      "Epoch 30/50\n",
      "\u001b[1m123/123\u001b[0m \u001b[32m━━━━━━━━━━━━━━━━━━━━\u001b[0m\u001b[37m\u001b[0m \u001b[1m3s\u001b[0m 28ms/step - loss: 4.1765e-04\n",
      "Epoch 31/50\n",
      "\u001b[1m123/123\u001b[0m \u001b[32m━━━━━━━━━━━━━━━━━━━━\u001b[0m\u001b[37m\u001b[0m \u001b[1m3s\u001b[0m 25ms/step - loss: 4.0635e-04\n",
      "Epoch 32/50\n",
      "\u001b[1m123/123\u001b[0m \u001b[32m━━━━━━━━━━━━━━━━━━━━\u001b[0m\u001b[37m\u001b[0m \u001b[1m3s\u001b[0m 27ms/step - loss: 4.0515e-04\n",
      "Epoch 33/50\n",
      "\u001b[1m123/123\u001b[0m \u001b[32m━━━━━━━━━━━━━━━━━━━━\u001b[0m\u001b[37m\u001b[0m \u001b[1m3s\u001b[0m 28ms/step - loss: 4.2172e-04\n",
      "Epoch 34/50\n",
      "\u001b[1m123/123\u001b[0m \u001b[32m━━━━━━━━━━━━━━━━━━━━\u001b[0m\u001b[37m\u001b[0m \u001b[1m3s\u001b[0m 25ms/step - loss: 4.4652e-04\n",
      "Epoch 35/50\n",
      "\u001b[1m123/123\u001b[0m \u001b[32m━━━━━━━━━━━━━━━━━━━━\u001b[0m\u001b[37m\u001b[0m \u001b[1m3s\u001b[0m 27ms/step - loss: 3.7146e-04\n",
      "Epoch 36/50\n",
      "\u001b[1m123/123\u001b[0m \u001b[32m━━━━━━━━━━━━━━━━━━━━\u001b[0m\u001b[37m\u001b[0m \u001b[1m4s\u001b[0m 28ms/step - loss: 3.7643e-04\n",
      "Epoch 37/50\n",
      "\u001b[1m123/123\u001b[0m \u001b[32m━━━━━━━━━━━━━━━━━━━━\u001b[0m\u001b[37m\u001b[0m \u001b[1m3s\u001b[0m 27ms/step - loss: 3.6311e-04\n",
      "Epoch 38/50\n",
      "\u001b[1m123/123\u001b[0m \u001b[32m━━━━━━━━━━━━━━━━━━━━\u001b[0m\u001b[37m\u001b[0m \u001b[1m3s\u001b[0m 27ms/step - loss: 3.3392e-04\n",
      "Epoch 39/50\n",
      "\u001b[1m123/123\u001b[0m \u001b[32m━━━━━━━━━━━━━━━━━━━━\u001b[0m\u001b[37m\u001b[0m \u001b[1m3s\u001b[0m 27ms/step - loss: 3.4396e-04\n",
      "Epoch 40/50\n",
      "\u001b[1m123/123\u001b[0m \u001b[32m━━━━━━━━━━━━━━━━━━━━\u001b[0m\u001b[37m\u001b[0m \u001b[1m3s\u001b[0m 26ms/step - loss: 2.6179e-04\n",
      "Epoch 41/50\n",
      "\u001b[1m123/123\u001b[0m \u001b[32m━━━━━━━━━━━━━━━━━━━━\u001b[0m\u001b[37m\u001b[0m \u001b[1m3s\u001b[0m 26ms/step - loss: 3.6492e-04\n",
      "Epoch 42/50\n",
      "\u001b[1m123/123\u001b[0m \u001b[32m━━━━━━━━━━━━━━━━━━━━\u001b[0m\u001b[37m\u001b[0m \u001b[1m3s\u001b[0m 26ms/step - loss: 3.4976e-04\n",
      "Epoch 43/50\n",
      "\u001b[1m123/123\u001b[0m \u001b[32m━━━━━━━━━━━━━━━━━━━━\u001b[0m\u001b[37m\u001b[0m \u001b[1m3s\u001b[0m 26ms/step - loss: 3.1607e-04\n",
      "Epoch 44/50\n",
      "\u001b[1m123/123\u001b[0m \u001b[32m━━━━━━━━━━━━━━━━━━━━\u001b[0m\u001b[37m\u001b[0m \u001b[1m3s\u001b[0m 26ms/step - loss: 2.2517e-04\n",
      "Epoch 45/50\n",
      "\u001b[1m123/123\u001b[0m \u001b[32m━━━━━━━━━━━━━━━━━━━━\u001b[0m\u001b[37m\u001b[0m \u001b[1m4s\u001b[0m 28ms/step - loss: 2.6456e-04\n",
      "Epoch 46/50\n",
      "\u001b[1m123/123\u001b[0m \u001b[32m━━━━━━━━━━━━━━━━━━━━\u001b[0m\u001b[37m\u001b[0m \u001b[1m3s\u001b[0m 27ms/step - loss: 3.7341e-04\n",
      "Epoch 47/50\n",
      "\u001b[1m123/123\u001b[0m \u001b[32m━━━━━━━━━━━━━━━━━━━━\u001b[0m\u001b[37m\u001b[0m \u001b[1m3s\u001b[0m 26ms/step - loss: 4.7287e-04\n",
      "Epoch 48/50\n",
      "\u001b[1m123/123\u001b[0m \u001b[32m━━━━━━━━━━━━━━━━━━━━\u001b[0m\u001b[37m\u001b[0m \u001b[1m3s\u001b[0m 27ms/step - loss: 2.9110e-04\n",
      "Epoch 49/50\n",
      "\u001b[1m123/123\u001b[0m \u001b[32m━━━━━━━━━━━━━━━━━━━━\u001b[0m\u001b[37m\u001b[0m \u001b[1m3s\u001b[0m 26ms/step - loss: 2.7743e-04\n",
      "Epoch 50/50\n",
      "\u001b[1m123/123\u001b[0m \u001b[32m━━━━━━━━━━━━━━━━━━━━\u001b[0m\u001b[37m\u001b[0m \u001b[1m3s\u001b[0m 26ms/step - loss: 2.6299e-04\n"
     ]
    },
    {
     "data": {
      "image/png": "[encoded data removed]",
      "text/plain": [
       "<Figure size 640x480 with 1 Axes>"
      ]
     },
     "metadata": {},
     "output_type": "display_data"
    }
   ],
   "source": [
    "# Training \n",
    "# Before making LSTM model our data shape should be like this\n",
    "# (Row,timestamp,feature)\n",
    "\n",
    "# Rows means number of samples\n",
    "# Timestamp -> no of days require to predict one stock\n",
    "# Features -> number of indioendent features using predict (1)\n",
    "\n",
    "import tensorflow as tf\n",
    "from tensorflow.keras.layers import LSTM,Dense,Dropout\n",
    "from tensorflow.keras.models import Sequential\n",
    "lstm = Sequential()\n",
    "lstm.add(LSTM(units=50,input_shape=(x_stock.shape[1],x_stock.shape[2]),return_sequences=True))\n",
    "# When return_sequences is False then only there will be one output\n",
    "# So when we are using stacked LSTM then pass this parameter as True\n",
    "# By which second lstm layer will also get data in 3d form\n",
    "lstm.add(Dropout(0,2))\n",
    "lstm.add(LSTM(units=20))\n",
    "lstm.add(Dense(units=1,activation='relu'))\n",
    "lstm.compile(optimizer='adam',loss='mean_squared_error')\n",
    "history = lstm.fit(x_stock,y_stock,batch_size=10,epochs=50)\n",
    "\n",
    "plt.plot(history.history['loss'])\n",
    "plt.show()"
   ]
  },
  {
   "cell_type": "code",
   "execution_count": 14,
   "id": "02cbbac2-2f36-4916-b863-72b6fbd99d06",
   "metadata": {},
   "outputs": [
    {
     "name": "stdout",
     "output_type": "stream",
     "text": [
      "\u001b[1m39/39\u001b[0m \u001b[32m━━━━━━━━━━━━━━━━━━━━\u001b[0m\u001b[37m\u001b[0m \u001b[1m0s\u001b[0m 10ms/step\n"
     ]
    },
    {
     "data": {
      "text/plain": [
       "array([[306.23227],\n",
       "       [306.69812],\n",
       "       [304.78265],\n",
       "       ...,\n",
       "       [792.14746],\n",
       "       [795.4354 ],\n",
       "       [784.5091 ]], dtype=float32)"
      ]
     },
     "execution_count": 14,
     "metadata": {},
     "output_type": "execute_result"
    }
   ],
   "source": [
    "y_pred = lstm.predict(x_stock)\n",
    "y_pred\n",
    "# In sklearn we have a feature of inverse transformation\n",
    "# Inverse transformation is concept of making orginal form of data as was before transformation\n",
    "y_pred = scaler.inverse_transform(y_pred)\n",
    "y_pred\n",
    "\n",
    "# NOTE: While inverse transformation no of dimensions should be same as was in original data"
   ]
  },
  {
   "cell_type": "code",
   "execution_count": 20,
   "id": "83941663-7982-4328-b84f-ecc0c39a3977",
   "metadata": {},
   "outputs": [
    {
     "data": {
      "image/png": "[encoded data removed]",
      "text/plain": [
       "<Figure size 640x480 with 1 Axes>"
      ]
     },
     "metadata": {},
     "output_type": "display_data"
    }
   ],
   "source": [
    "y_stock_2d = y_stock.reshape(-1, y_stock.shape[-1])\n",
    "y_stock = scaler.inverse_transform(y_stock_2d)\n",
    "y_stock = y_stock.reshape(y_pred.shape)\n",
    "\n",
    "plt.plot(y_pred)\n",
    "plt.plot(y_stock)\n",
    "plt.show()"
   ]
  },
  {
   "cell_type": "code",
   "execution_count": 25,
   "id": "a960a90d-cd83-4c97-a151-1fdd88b5429a",
   "metadata": {},
   "outputs": [
    {
     "name": "stdout",
     "output_type": "stream",
     "text": [
      "[[0.90743359]\n",
      " [0.91571173]\n",
      " [0.89941588]\n",
      " [0.91805566]\n",
      " [0.9089404 ]\n",
      " [0.9024853 ]\n",
      " [0.89456061]\n",
      " [0.91600938]\n",
      " [0.9132934 ]\n",
      " [0.88979835]\n",
      " [0.86589404]\n",
      " [0.89030062]\n",
      " [0.90335962]\n",
      " [0.89642086]\n",
      " [0.91777662]\n",
      " [0.93176576]\n",
      " [0.94114145]\n",
      " [0.95762334]\n",
      " [0.96413424]\n",
      " [0.96402262]\n",
      " [0.96971501]\n",
      " [0.95077759]\n",
      " [0.96294367]\n",
      " [0.96123223]\n",
      " [0.95475854]\n",
      " [0.95204256]\n",
      " [0.95163331]\n",
      " [0.95725128]\n",
      " [0.93796041]\n",
      " [0.93688146]]\n",
      "\u001b[1m1/1\u001b[0m \u001b[32m━━━━━━━━━━━━━━━━━━━━\u001b[0m\u001b[37m\u001b[0m \u001b[1m0s\u001b[0m 47ms/step\n",
      "[[0.93961006]]\n"
     ]
    }
   ],
   "source": [
    "last_30_day = x[-30:]\n",
    "print(last_30_day)\n",
    "last_30_day = last_30_day.reshape(1, 30, 1)\n",
    "\n",
    "# Predict\n",
    "y_pred = lstm.predict(last_30_day)\n",
    "print(y_pred)"
   ]
  }
 ],
 "metadata": {
  "kernelspec": {
   "display_name": "Python 3 (ipykernel)",
   "language": "python",
   "name": "python3"
  },
  "language_info": {
   "codemirror_mode": {
    "name": "ipython",
    "version": 3
   },
   "file_extension": ".py",
   "mimetype": "text/x-python",
   "name": "python",
   "nbconvert_exporter": "python",
   "pygments_lexer": "ipython3",
   "version": "3.11.7"
  }
 },
 "nbformat": 4,
 "nbformat_minor": 5
}
